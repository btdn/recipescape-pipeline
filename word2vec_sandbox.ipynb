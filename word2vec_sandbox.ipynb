{
 "cells": [
  {
   "cell_type": "code",
   "execution_count": 4,
   "metadata": {},
   "outputs": [],
   "source": [
    "import word2vec\n",
    "import numpy as np\n",
    "\n",
    "modelfile = 'vocab.bin'\n",
    "\n",
    "model = word2vec.load(modelfile)\n",
    "\n",
    "#model.vocab\n",
    "#model.vectors.shape\n",
    "#model.vectors\n",
    "\n",
    "word1='add'\n",
    "word2='Add'\n",
    "\n",
    "size = len(model.vectors)\n",
    "avgVec = np.zeros(300, dtype=\"float32\")\n",
    "for i in range(size):\n",
    "    avgVec += model.vectors[i]\n",
    "avgVec = avgVec / 300\n",
    "\n",
    "def cosine_similarity(word1, word2):\n",
    "    if word1 == 'avgVec':\n",
    "        return np.dot(avgVec, model[word2])/(np.linalg.norm(avgVec)* np.linalg.norm(model[word2]))\n",
    "    else:\n",
    "        return np.dot(model[word1], model[word2])/(np.linalg.norm(model[word1])* np.linalg.norm(model[word2]))\n",
    "    #print(cosine_similarity)\n"
   ]
  },
  {
   "cell_type": "code",
   "execution_count": 5,
   "metadata": {
    "collapsed": true
   },
   "outputs": [],
   "source": [
    "n_word1=np.linalg.norm(model['add'])\n",
    "n_word2=np.linalg.norm(model['mix'])"
   ]
  },
  {
   "cell_type": "code",
   "execution_count": 6,
   "metadata": {},
   "outputs": [
    {
     "data": {
      "text/plain": [
       "0.314148082633605"
      ]
     },
     "execution_count": 6,
     "metadata": {},
     "output_type": "execute_result"
    }
   ],
   "source": [
    "cosine_similarity('add','mix')"
   ]
  },
  {
   "cell_type": "code",
   "execution_count": 7,
   "metadata": {},
   "outputs": [
    {
     "data": {
      "text/plain": [
       "1.0000000206866793"
      ]
     },
     "execution_count": 7,
     "metadata": {},
     "output_type": "execute_result"
    }
   ],
   "source": [
    "n_word1"
   ]
  },
  {
   "cell_type": "code",
   "execution_count": 8,
   "metadata": {},
   "outputs": [
    {
     "data": {
      "text/plain": [
       "1.0000000457162039"
      ]
     },
     "execution_count": 8,
     "metadata": {},
     "output_type": "execute_result"
    }
   ],
   "source": [
    "n_word2"
   ]
  },
  {
   "cell_type": "code",
   "execution_count": 13,
   "metadata": {},
   "outputs": [
    {
     "data": {
      "text/plain": [
       "0.040007078071810642"
      ]
     },
     "execution_count": 13,
     "metadata": {},
     "output_type": "execute_result"
    }
   ],
   "source": [
    "cosine_similarity('avgVec', 'mix') + cosine_similarity('avgVec','add')"
   ]
  },
  {
   "cell_type": "code",
   "execution_count": null,
   "metadata": {
    "collapsed": true
   },
   "outputs": [],
   "source": []
  }
 ],
 "metadata": {
  "kernelspec": {
   "display_name": "Python 3",
   "language": "python",
   "name": "python3"
  },
  "language_info": {
   "codemirror_mode": {
    "name": "ipython",
    "version": 3
   },
   "file_extension": ".py",
   "mimetype": "text/x-python",
   "name": "python",
   "nbconvert_exporter": "python",
   "pygments_lexer": "ipython3",
   "version": "3.6.2"
  }
 },
 "nbformat": 4,
 "nbformat_minor": 2
}
