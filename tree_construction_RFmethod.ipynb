{
 "cells": [
  {
   "cell_type": "code",
   "execution_count": 21,
   "metadata": {},
   "outputs": [],
   "source": [
    "from ete3 import Tree\n",
    "from ete3 import PhyloTree"
   ]
  },
  {
   "cell_type": "code",
   "execution_count": 22,
   "metadata": {
    "collapsed": true
   },
   "outputs": [],
   "source": [
    "import numpy\n",
    "import json\n",
    "import pprint as pp\n",
    "\n",
    "from retrieve_recipes import *"
   ]
  },
  {
   "cell_type": "code",
   "execution_count": 23,
   "metadata": {
    "collapsed": true
   },
   "outputs": [],
   "source": [
    "recipes = get_all_recipes('potatosalad') #list"
   ]
  },
  {
   "cell_type": "code",
   "execution_count": 24,
   "metadata": {},
   "outputs": [
    {
     "data": {
      "text/plain": [
       "34"
      ]
     },
     "execution_count": 24,
     "metadata": {},
     "output_type": "execute_result"
    }
   ],
   "source": [
    "ids=[]\n",
    "for recipe in recipes:\n",
    "    ids.append(recipe['id'])\n",
    "\n",
    "len(set(ids)) #how many recipes - determined by distict IDs"
   ]
  },
  {
   "cell_type": "code",
   "execution_count": 25,
   "metadata": {
    "collapsed": true
   },
   "outputs": [],
   "source": [
    "recipe_inst = []\n",
    "recipe_lengths = []\n",
    "temp = []\n",
    "\n",
    "for curr_id in ids:\n",
    "    for recipe in recipes:\n",
    "        if recipe['id'] == curr_id:\n",
    "            recipe_inst+=(recipe['tree'])\n",
    "    recipe_lengths.append(len(recipe_inst))\n",
    "    temp = recipe_inst\n",
    "    recipe_inst=[]\n",
    "\n",
    "#calculate the numer of steps for each recipe --> recipe_lengths"
   ]
  },
  {
   "cell_type": "code",
   "execution_count": 26,
   "metadata": {},
   "outputs": [
    {
     "name": "stdout",
     "output_type": "stream",
     "text": [
      "[{'ingredient': ['potatoes', 'salted', 'cold', 'water'], 'word': 'cover'},\n",
      " {'ingredient': ['potatoes'], 'word': 'drain'},\n",
      " {'ingredient': [], 'word': 'cut'},\n",
      " {'ingredient': ['yolks'], 'word': 'mash'},\n",
      " {'ingredient': ['celery'], 'word': 'chop'},\n",
      " {'ingredient': ['potato', 'salad'], 'word': 'serve'},\n",
      " {'ingredient': ['potatoes', 'water'], 'word': 'cover'},\n",
      " {'ingredient': ['potatoes'], 'word': 'drain'},\n",
      " {'ingredient': ['potatoes'], 'word': 'peel'},\n",
      " {'ingredient': ['potatoes', 'vinegar'], 'word': 'toss'},\n",
      " {'ingredient': ['mayonnaise', 'mustard', 'onion'], 'word': 'stir'},\n",
      " {'ingredient': ['potatoes', 'mayonnaise', 'mixture', 'salt', 'pepper'],\n",
      "  'word': 'toss'}]\n"
     ]
    }
   ],
   "source": [
    "temp = []\n",
    "\n",
    "for recipe in recipes:\n",
    "    if recipe['id'] == '54a460c16529d92b2c0256ae':\n",
    "        #pp.pprint(recipe['tree'])\n",
    "        temp += recipe['tree']\n",
    "\n",
    "pp.pprint(temp)\n"
   ]
  },
  {
   "cell_type": "code",
   "execution_count": 27,
   "metadata": {},
   "outputs": [],
   "source": [
    "node_list=[]\n",
    "for i in reversed(temp):\n",
    "    t=PhyloTree(name=i['word'])\n",
    "    for j in i['ingredient']:\n",
    "        t.get_tree_root().add_child(name=j)\n",
    "        \n",
    "    node_list.append(t)"
   ]
  },
  {
   "cell_type": "code",
   "execution_count": 28,
   "metadata": {},
   "outputs": [
    {
     "name": "stdout",
     "output_type": "stream",
     "text": [
      "\n",
      "    /-potatoes\n",
      "   |\n",
      "   |--mayonnaise\n",
      "   |\n",
      "-toss-mixture\n",
      "   |\n",
      "   |--salt\n",
      "   |\n",
      "    \\-pepper\n"
     ]
    }
   ],
   "source": [
    "print(node_list[0].get_ascii(show_internal=True))\n"
   ]
  },
  {
   "cell_type": "code",
   "execution_count": 29,
   "metadata": {},
   "outputs": [],
   "source": [
    "t=PhyloTree()\n",
    "t.add_child(node_list[0])\n",
    "\n",
    "for i in range(1,len(node_list)):\n",
    "    node_list[i-1].add_child(node_list[i])\n",
    "\n",
    "    "
   ]
  },
  {
   "cell_type": "code",
   "execution_count": 30,
   "metadata": {},
   "outputs": [
    {
     "name": "stdout",
     "output_type": "stream",
     "text": [
      "\n",
      "       /-potatoes\n",
      "      |\n",
      "      |--mayonnaise\n",
      "      |\n",
      "      |--mixture\n",
      "      |\n",
      "      |--salt\n",
      "-- /toss\n",
      "      |--pepper\n",
      "      |\n",
      "      |    /-mayonnaise\n",
      "      |   |\n",
      "      |   |--mustard\n",
      "      |   |\n",
      "       \\stir-onion\n",
      "          |\n",
      "          |    /-potatoes\n",
      "          |   |\n",
      "          |   |--vinegar\n",
      "           \\toss\n",
      "              |    /-potatoes\n",
      "              |   |\n",
      "               \\peel    /-potatoes\n",
      "                  |    |\n",
      "                   \\drain    /-potatoes\n",
      "                       |    |\n",
      "                       |    |--water\n",
      "                        \\cover\n",
      "                            |     /-potato\n",
      "                            |    |\n",
      "                            |    |--salad\n",
      "                             \\serve\n",
      "                                 |    /-celery\n",
      "                                 |   |\n",
      "                                  \\chop   /-yolks\n",
      "                                     |   |\n",
      "                                      \\mash       /-potatoes\n",
      "                                         |       |\n",
      "                                          \\cutdrain    /-potatoes\n",
      "                                                 |    |\n",
      "                                                 |    |--salted\n",
      "                                                  \\cover\n",
      "                                                      |--cold\n",
      "                                                      |\n",
      "                                                       \\-water\n"
     ]
    }
   ],
   "source": [
    "print(t.get_ascii(show_internal=True))\n"
   ]
  },
  {
   "cell_type": "code",
   "execution_count": 31,
   "metadata": {},
   "outputs": [
    {
     "name": "stdout",
     "output_type": "stream",
     "text": [
      "[{'ingredient': ['potatoes'], 'word': 'place'},\n",
      " {'ingredient': [], 'word': 'boil'},\n",
      " {'ingredient': [], 'word': 'cool'},\n",
      " {'ingredient': [], 'word': 'cut'},\n",
      " {'ingredient': ['wine'], 'word': 'add'},\n",
      " {'ingredient': ['coat'], 'word': 'toss'},\n",
      " {'ingredient': ['remaining', 'ingredients'], 'word': 'combine'},\n",
      " {'ingredient': ['seasoning'], 'word': 'adjust'},\n",
      " {'ingredient': [], 'word': 'refrigerate'}]\n"
     ]
    }
   ],
   "source": [
    "temp = []\n",
    "\n",
    "for recipe in recipes:\n",
    "    if recipe['id'] == '54a4705819925f464b398e9d':\n",
    "        #pp.pprint(recipe['tree'])\n",
    "        temp += recipe['tree']\n",
    "\n",
    "pp.pprint(temp)\n"
   ]
  },
  {
   "cell_type": "code",
   "execution_count": 32,
   "metadata": {
    "collapsed": true
   },
   "outputs": [],
   "source": [
    "node_list=[]\n",
    "for i in reversed(temp):\n",
    "    t=Tree(name=i['word'])\n",
    "    t.add_feature('type', 'action')\n",
    "    if not i['ingredient']:\n",
    "        pass\n",
    "    else:\n",
    "        for j in i['ingredient']:\n",
    "            a = t.get_tree_root().add_child(name=j)\n",
    "            a.add_feature('type', 'ingredient')\n",
    "    node_list.append(t)"
   ]
  },
  {
   "cell_type": "code",
   "execution_count": 33,
   "metadata": {
    "collapsed": true
   },
   "outputs": [],
   "source": [
    "t2=Tree()\n",
    "t2.add_child(node_list[0])\n",
    "\n",
    "for i in range(1,len(node_list)):\n",
    "    node_list[i-1].add_child(node_list[i])\n",
    "\n",
    "    "
   ]
  },
  {
   "cell_type": "code",
   "execution_count": 34,
   "metadata": {},
   "outputs": [
    {
     "name": "stdout",
     "output_type": "stream",
     "text": [
      "\n",
      "                    /-seasoning\n",
      "                   |\n",
      "-- /refrigerateadjust      /-remaining\n",
      "                   |      |\n",
      "                    \\combine-ingredients\n",
      "                          |\n",
      "                          |    /-coat\n",
      "                           \\toss\n",
      "                              |   /-wine\n",
      "                               \\add\n",
      "                                  \\cutcoolboilplace-potatoes\n"
     ]
    }
   ],
   "source": [
    "print(t2.get_ascii(show_internal=True))\n"
   ]
  },
  {
   "cell_type": "code",
   "execution_count": 35,
   "metadata": {},
   "outputs": [
    {
     "name": "stdout",
     "output_type": "stream",
     "text": [
      "[{'ingredient': ['onions', 'water', 'vinegar', 'salt', 'pepper'],\n",
      "  'word': 'combine'},\n",
      " {'ingredient': ['oil', 'vinegar', 'mixture'], 'word': 'add'},\n",
      " {'ingredient': ['lettuce',\n",
      "                 'peppers',\n",
      "                 'olives',\n",
      "                 'haricots',\n",
      "                 'verts',\n",
      "                 'cucumber',\n",
      "                 'herbs'],\n",
      "  'word': 'combine'},\n",
      " {'ingredient': ['taste', 'salt', 'pepper'], 'word': 'season'}]\n"
     ]
    }
   ],
   "source": [
    "temp = []\n",
    "\n",
    "for recipe in recipes:\n",
    "    if recipe['id'] == '54a42a3519925f464b37e910':\n",
    "        #pp.pprint(recipe['tree'])\n",
    "        temp += recipe['tree']\n",
    "\n",
    "pp.pprint(temp)\n"
   ]
  },
  {
   "cell_type": "code",
   "execution_count": 36,
   "metadata": {
    "collapsed": true
   },
   "outputs": [],
   "source": [
    "node_list=[]\n",
    "for i in reversed(temp):\n",
    "    t=Tree(name=i['word'])\n",
    "    t.add_feature('type', 'action')\n",
    "    if not i['ingredient']:\n",
    "        pass\n",
    "    else:\n",
    "        for j in i['ingredient']:\n",
    "            a = t.get_tree_root().add_child(name=j)\n",
    "            a.add_feature('type', 'ingredient')\n",
    "    node_list.append(t)"
   ]
  },
  {
   "cell_type": "code",
   "execution_count": 37,
   "metadata": {
    "collapsed": true
   },
   "outputs": [],
   "source": [
    "t3=Tree()\n",
    "t3.add_child(node_list[0])\n",
    "\n",
    "for i in range(1,len(node_list)):\n",
    "    node_list[i-1].add_child(node_list[i])\n",
    "\n",
    "    "
   ]
  },
  {
   "cell_type": "code",
   "execution_count": 38,
   "metadata": {},
   "outputs": [
    {
     "name": "stdout",
     "output_type": "stream",
     "text": [
      "\n",
      "         /-taste\n",
      "        |\n",
      "        |--salt\n",
      "        |\n",
      "        |--pepper\n",
      "        |\n",
      "        |       /-lettuce\n",
      "-- /season     |\n",
      "        |      |--peppers\n",
      "        |      |\n",
      "        |      |--olives\n",
      "        |      |\n",
      "        |      |--haricots\n",
      "        |      |\n",
      "        |      |--verts\n",
      "         \\combine\n",
      "               |--cucumber\n",
      "               |\n",
      "               |--herbs\n",
      "               |\n",
      "               |   /-oil\n",
      "               |  |\n",
      "               |  |--vinegar\n",
      "               |  |\n",
      "               |  |--mixture\n",
      "                \\add\n",
      "                  |       /-onions\n",
      "                  |      |\n",
      "                  |      |--water\n",
      "                  |      |\n",
      "                   \\combine-vinegar\n",
      "                         |\n",
      "                         |--salt\n",
      "                         |\n",
      "                          \\-pepper\n"
     ]
    }
   ],
   "source": [
    "print(t3.get_ascii(show_internal=True))\n"
   ]
  },
  {
   "cell_type": "code",
   "execution_count": 48,
   "metadata": {
    "scrolled": true
   },
   "outputs": [
    {
     "ename": "TreeError",
     "evalue": "'Duplicated items found in source tree'",
     "output_type": "error",
     "traceback": [
      "\u001b[0;31m---------------------------------------------------------------------------\u001b[0m",
      "\u001b[0;31mTreeError\u001b[0m                                 Traceback (most recent call last)",
      "\u001b[0;32m<ipython-input-48-dd75d77d1ab0>\u001b[0m in \u001b[0;36m<module>\u001b[0;34m()\u001b[0m\n\u001b[0;32m----> 1\u001b[0;31m \u001b[0mresult\u001b[0m \u001b[0;34m=\u001b[0m \u001b[0mt2\u001b[0m\u001b[0;34m.\u001b[0m\u001b[0mrobinson_foulds\u001b[0m\u001b[0;34m(\u001b[0m\u001b[0mt3\u001b[0m\u001b[0;34m,\u001b[0m \u001b[0mattr_t1\u001b[0m\u001b[0;34m=\u001b[0m\u001b[0;34m'type'\u001b[0m\u001b[0;34m,\u001b[0m \u001b[0mattr_t2\u001b[0m\u001b[0;34m=\u001b[0m\u001b[0;34m'type'\u001b[0m\u001b[0;34m)\u001b[0m\u001b[0;34m\u001b[0m\u001b[0m\n\u001b[0m\u001b[1;32m      2\u001b[0m \u001b[0mresult\u001b[0m\u001b[0;34m\u001b[0m\u001b[0m\n",
      "\u001b[0;32m~/.pyenv/versions/3.6.2/lib/python3.6/site-packages/ete3/coretype/tree.py\u001b[0m in \u001b[0;36mrobinson_foulds\u001b[0;34m(self, t2, attr_t1, attr_t2, unrooted_trees, expand_polytomies, polytomy_size_limit, skip_large_polytomies, correct_by_polytomy_size, min_support_t1, min_support_t2)\u001b[0m\n\u001b[1;32m   1643\u001b[0m         \u001b[0msize2\u001b[0m \u001b[0;34m=\u001b[0m \u001b[0mlen\u001b[0m\u001b[0;34m(\u001b[0m\u001b[0;34m[\u001b[0m\u001b[0;32mTrue\u001b[0m \u001b[0;32mfor\u001b[0m \u001b[0mn\u001b[0m \u001b[0;32min\u001b[0m \u001b[0mtarget_t\u001b[0m\u001b[0;34m.\u001b[0m\u001b[0miter_leaves\u001b[0m\u001b[0;34m(\u001b[0m\u001b[0;34m)\u001b[0m \u001b[0;32mif\u001b[0m \u001b[0mgetattr\u001b[0m\u001b[0;34m(\u001b[0m\u001b[0mn\u001b[0m\u001b[0;34m,\u001b[0m \u001b[0mattr_t2\u001b[0m\u001b[0;34m,\u001b[0m \u001b[0;32mNone\u001b[0m\u001b[0;34m)\u001b[0m \u001b[0;32min\u001b[0m \u001b[0mcommon_attrs\u001b[0m\u001b[0;34m]\u001b[0m\u001b[0;34m)\u001b[0m\u001b[0;34m\u001b[0m\u001b[0m\n\u001b[1;32m   1644\u001b[0m         \u001b[0;32mif\u001b[0m \u001b[0msize1\u001b[0m \u001b[0;34m>\u001b[0m \u001b[0mlen\u001b[0m\u001b[0;34m(\u001b[0m\u001b[0mcommon_attrs\u001b[0m\u001b[0;34m)\u001b[0m\u001b[0;34m:\u001b[0m\u001b[0;34m\u001b[0m\u001b[0m\n\u001b[0;32m-> 1645\u001b[0;31m             \u001b[0;32mraise\u001b[0m \u001b[0mTreeError\u001b[0m\u001b[0;34m(\u001b[0m\u001b[0;34m'Duplicated items found in source tree'\u001b[0m\u001b[0;34m)\u001b[0m\u001b[0;34m\u001b[0m\u001b[0m\n\u001b[0m\u001b[1;32m   1646\u001b[0m         \u001b[0;32mif\u001b[0m \u001b[0msize2\u001b[0m \u001b[0;34m>\u001b[0m \u001b[0mlen\u001b[0m\u001b[0;34m(\u001b[0m\u001b[0mcommon_attrs\u001b[0m\u001b[0;34m)\u001b[0m\u001b[0;34m:\u001b[0m\u001b[0;34m\u001b[0m\u001b[0m\n\u001b[1;32m   1647\u001b[0m             \u001b[0;32mraise\u001b[0m \u001b[0mTreeError\u001b[0m\u001b[0;34m(\u001b[0m\u001b[0;34m'Duplicated items found in reference tree'\u001b[0m\u001b[0;34m)\u001b[0m\u001b[0;34m\u001b[0m\u001b[0m\n",
      "\u001b[0;31mTreeError\u001b[0m: 'Duplicated items found in source tree'"
     ]
    }
   ],
   "source": [
    "result = t2.robinson_foulds(t3, attr_t1='type', attr_t2='type')\n",
    "result\n"
   ]
  },
  {
   "cell_type": "code",
   "execution_count": null,
   "metadata": {},
   "outputs": [],
   "source": [
    "t3"
   ]
  },
  {
   "cell_type": "code",
   "execution_count": null,
   "metadata": {},
   "outputs": [],
   "source": []
  },
  {
   "cell_type": "code",
   "execution_count": null,
   "metadata": {
    "collapsed": true
   },
   "outputs": [],
   "source": []
  }
 ],
 "metadata": {
  "kernelspec": {
   "display_name": "Python 3",
   "language": "python",
   "name": "python3"
  },
  "language_info": {
   "codemirror_mode": {
    "name": "ipython",
    "version": 3
   },
   "file_extension": ".py",
   "mimetype": "text/x-python",
   "name": "python",
   "nbconvert_exporter": "python",
   "pygments_lexer": "ipython3",
   "version": "3.6.2"
  }
 },
 "nbformat": 4,
 "nbformat_minor": 2
}
