{
 "cells": [
  {
   "cell_type": "code",
   "execution_count": 1,
   "metadata": {
    "collapsed": true
   },
   "outputs": [],
   "source": [
    "import numpy\n",
    "import json\n",
    "import pprint as pp\n",
    "\n",
    "from retrieve_recipes import *\n",
    "#from im2recipe_w2v_weight import *\n",
    "\n",
    "recipes = get_all_recipes('potatosalad') #list"
   ]
  },
  {
   "cell_type": "code",
   "execution_count": 7,
   "metadata": {},
   "outputs": [
    {
     "data": {
      "text/plain": [
       "34"
      ]
     },
     "execution_count": 7,
     "metadata": {},
     "output_type": "execute_result"
    }
   ],
   "source": [
    "ids=[]\n",
    "for recipe in recipes:\n",
    "    ids.append(recipe['id'])\n",
    "\n",
    "len(set(ids)) #how many recipes - determined by distict IDs"
   ]
  },
  {
   "cell_type": "code",
   "execution_count": 74,
   "metadata": {},
   "outputs": [],
   "source": [
    "recipe_inst = []\n",
    "recipe_lengths = []\n",
    "\n",
    "for curr_id in ids:\n",
    "    for recipe in recipes:\n",
    "        if recipe['id'] == curr_id:\n",
    "            recipe_inst+=(recipe['tree'])\n",
    "    recipe_lengths.append(len(recipe_inst))\n",
    "    recipe_inst=[]\n",
    "\n",
    "#calculate the numer of steps for each recipe --> recipe_lengths"
   ]
  },
  {
   "cell_type": "code",
   "execution_count": 94,
   "metadata": {},
   "outputs": [
    {
     "name": "stdout",
     "output_type": "stream",
     "text": [
      "35\n"
     ]
    }
   ],
   "source": [
    "print(len(recipe_lengths))"
   ]
  },
  {
   "cell_type": "code",
   "execution_count": 96,
   "metadata": {},
   "outputs": [
    {
     "data": {
      "text/plain": [
       "7"
      ]
     },
     "execution_count": 96,
     "metadata": {},
     "output_type": "execute_result"
    }
   ],
   "source": [
    "data.most_common()[0][0]"
   ]
  },
  {
   "cell_type": "code",
   "execution_count": 93,
   "metadata": {},
   "outputs": [
    {
     "name": "stdout",
     "output_type": "stream",
     "text": [
      "[(7, 6), (5, 6)]\n"
     ]
    }
   ],
   "source": [
    "import statistics as st\n",
    "from collections import Counter\n",
    "\n",
    "data = Counter(recipe_lengths)\n",
    "bin_size=0\n",
    "\n",
    "try:\n",
    "    bin_size=st.mode(recipe_lengths)\n",
    "    #will throw exception if there's more than one mode\n",
    "except Exception: \n",
    "    #then use\n",
    "    bin_size=data.most_common(2)[0][0])  # Returns two highest occurring item\n",
    "    \n"
   ]
  },
  {
   "cell_type": "code",
   "execution_count": null,
   "metadata": {
    "collapsed": true
   },
   "outputs": [],
   "source": []
  }
 ],
 "metadata": {
  "kernelspec": {
   "display_name": "Python 3",
   "language": "python",
   "name": "python3"
  },
  "language_info": {
   "codemirror_mode": {
    "name": "ipython",
    "version": 3
   },
   "file_extension": ".py",
   "mimetype": "text/x-python",
   "name": "python",
   "nbconvert_exporter": "python",
   "pygments_lexer": "ipython3",
   "version": "3.6.2"
  }
 },
 "nbformat": 4,
 "nbformat_minor": 2
}
