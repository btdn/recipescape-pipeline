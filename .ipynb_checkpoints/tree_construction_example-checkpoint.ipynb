{
 "cells": [
  {
   "cell_type": "code",
   "execution_count": 1,
   "metadata": {
    "collapsed": true
   },
   "outputs": [],
   "source": [
    "import numpy\n",
    "import json\n",
    "import pprint as pp\n",
    "\n",
    "from retrieve_recipes import *\n",
    "from im2recipe_w2v_weight import *\n",
    "\n",
    "recipes = get_all_recipes('potatosalad') #list\n",
    "\n"
   ]
  },
  {
   "cell_type": "code",
   "execution_count": 15,
   "metadata": {},
   "outputs": [
    {
     "data": {
      "text/plain": [
       "[{'ingredient': ['potatoes', 'water'], 'word': 'cover'},\n",
       " {'ingredient': ['potatoes'], 'word': 'drain'},\n",
       " {'ingredient': ['potatoes'], 'word': 'peel'},\n",
       " {'ingredient': ['potatoes', 'vinegar'], 'word': 'toss'},\n",
       " {'ingredient': ['mayonnaise', 'mustard', 'onion'], 'word': 'stir'},\n",
       " {'ingredient': ['potatoes', 'mayonnaise', 'mixture', 'salt', 'pepper'],\n",
       "  'word': 'toss'}]"
      ]
     },
     "execution_count": 15,
     "metadata": {},
     "output_type": "execute_result"
    }
   ],
   "source": [
    "recipes[0]['tree']\n",
    "\n"
   ]
  },
  {
   "cell_type": "code",
   "execution_count": 22,
   "metadata": {},
   "outputs": [
    {
     "data": {
      "text/plain": [
       "[{'id': '54a460c16529d92b2c0256ae',\n",
       "  'tree': [{'ingredient': ['potatoes', 'water'], 'word': 'cover'},\n",
       "   {'ingredient': ['potatoes'], 'word': 'drain'},\n",
       "   {'ingredient': ['potatoes'], 'word': 'peel'},\n",
       "   {'ingredient': ['potatoes', 'vinegar'], 'word': 'toss'},\n",
       "   {'ingredient': ['mayonnaise', 'mustard', 'onion'], 'word': 'stir'},\n",
       "   {'ingredient': ['potatoes', 'mayonnaise', 'mixture', 'salt', 'pepper'],\n",
       "    'word': 'toss'}]},\n",
       " {'id': '54a460c16529d92b2c0256ae',\n",
       "  'tree': [{'ingredient': ['potatoes', 'salted', 'cold', 'water'],\n",
       "    'word': 'cover'},\n",
       "   {'ingredient': ['potatoes'], 'word': 'drain'},\n",
       "   {'ingredient': [], 'word': 'cut'},\n",
       "   {'ingredient': ['yolks'], 'word': 'mash'},\n",
       "   {'ingredient': ['celery'], 'word': 'chop'},\n",
       "   {'ingredient': ['potato', 'salad'], 'word': 'serve'}]},\n",
       " {'id': '54a478ee6529d92b2c02b640',\n",
       "  'tree': [{'ingredient': ['potatoes'], 'word': 'steam'},\n",
       "   {'ingredient': [], 'word': 'covered'},\n",
       "   {'ingredient': [], 'word': 'cool'},\n",
       "   {'ingredient': ['potatoes', 'celery', 'scallion'], 'word': 'cut'},\n",
       "   {'ingredient': ['lemon',\n",
       "     'juice',\n",
       "     'mustard',\n",
       "     'sugar',\n",
       "     'parsley',\n",
       "     'cream',\n",
       "     'salt'],\n",
       "    'word': 'together'},\n",
       "   {'ingredient': ['dressing', 'potato', 'mixture'], 'word': 'pour'}]}]"
      ]
     },
     "execution_count": 22,
     "metadata": {},
     "output_type": "execute_result"
    }
   ],
   "source": [
    "recipes[0:3]"
   ]
  },
  {
   "cell_type": "code",
   "execution_count": 31,
   "metadata": {},
   "outputs": [
    {
     "name": "stdout",
     "output_type": "stream",
     "text": [
      "[{'ingredient': ['potatoes', 'water'], 'word': 'cover'},\n",
      " {'ingredient': ['potatoes'], 'word': 'drain'},\n",
      " {'ingredient': ['potatoes'], 'word': 'peel'},\n",
      " {'ingredient': ['potatoes', 'vinegar'], 'word': 'toss'},\n",
      " {'ingredient': ['mayonnaise', 'mustard', 'onion'], 'word': 'stir'},\n",
      " {'ingredient': ['potatoes', 'mayonnaise', 'mixture', 'salt', 'pepper'],\n",
      "  'word': 'toss'},\n",
      " {'ingredient': ['potatoes', 'salted', 'cold', 'water'], 'word': 'cover'},\n",
      " {'ingredient': ['potatoes'], 'word': 'drain'},\n",
      " {'ingredient': [], 'word': 'cut'},\n",
      " {'ingredient': ['yolks'], 'word': 'mash'},\n",
      " {'ingredient': ['celery'], 'word': 'chop'},\n",
      " {'ingredient': ['potato', 'salad'], 'word': 'serve'}]\n"
     ]
    }
   ],
   "source": [
    "recipe_inst = []\n",
    "\n",
    "for recipe in recipes:\n",
    "    if recipe['id'] == '54a460c16529d92b2c0256ae':\n",
    "        recipe_inst += recipe['tree']\n",
    "\n",
    "pp.pprint(recipe_inst)"
   ]
  },
  {
   "cell_type": "code",
   "execution_count": 63,
   "metadata": {
    "collapsed": true
   },
   "outputs": [],
   "source": [
    "from zss import Node, simple_distance"
   ]
  },
  {
   "cell_type": "code",
   "execution_count": 92,
   "metadata": {},
   "outputs": [
    {
     "ename": "TypeError",
     "evalue": "'function' object is not subscriptable",
     "output_type": "error",
     "traceback": [
      "\u001b[0;31m---------------------------------------------------------------------------\u001b[0m",
      "\u001b[0;31mTypeError\u001b[0m                                 Traceback (most recent call last)",
      "\u001b[0;32m<ipython-input-92-b10207802e0a>\u001b[0m in \u001b[0;36m<module>\u001b[0;34m()\u001b[0m\n\u001b[1;32m      6\u001b[0m \u001b[0;32mfor\u001b[0m \u001b[0msentence\u001b[0m \u001b[0;32min\u001b[0m \u001b[0mreversed\u001b[0m\u001b[0;34m(\u001b[0m\u001b[0mrecipe_inst\u001b[0m\u001b[0;34m)\u001b[0m\u001b[0;34m:\u001b[0m\u001b[0;34m\u001b[0m\u001b[0m\n\u001b[1;32m      7\u001b[0m     \u001b[0;31m#print(sentence['word'])\u001b[0m\u001b[0;34m\u001b[0m\u001b[0;34m\u001b[0m\u001b[0m\n\u001b[0;32m----> 8\u001b[0;31m     \u001b[0madd_to_end\u001b[0m\u001b[0;34m(\u001b[0m\u001b[0mroot\u001b[0m\u001b[0;34m.\u001b[0m\u001b[0mget_children\u001b[0m\u001b[0;34m[\u001b[0m\u001b[0;36m0\u001b[0m\u001b[0;34m]\u001b[0m\u001b[0;34m,\u001b[0m\u001b[0msentence\u001b[0m\u001b[0;34m[\u001b[0m\u001b[0;34m'word'\u001b[0m\u001b[0;34m]\u001b[0m\u001b[0;34m)\u001b[0m\u001b[0;34m\u001b[0m\u001b[0m\n\u001b[0m\u001b[1;32m      9\u001b[0m \u001b[0;34m\u001b[0m\u001b[0m\n",
      "\u001b[0;31mTypeError\u001b[0m: 'function' object is not subscriptable"
     ]
    }
   ],
   "source": [
    "root = Node(recipe_inst[-1]['word'])\n",
    "\n",
    "for sentence in reversed(recipe_inst):\n",
    "    #print(sentence['word'])\n",
    "    root.addkid(Node(sentence['word']))\n",
    "    "
   ]
  },
  {
   "cell_type": "code",
   "execution_count": 90,
   "metadata": {
    "scrolled": true
   },
   "outputs": [
    {
     "name": "stdout",
     "output_type": "stream",
     "text": [
      "<bound method Node.iter of <zss.simple_tree.Node object at 0x11088a320 serve>>\n"
     ]
    }
   ],
   "source": []
  },
  {
   "cell_type": "code",
   "execution_count": 71,
   "metadata": {},
   "outputs": [
    {
     "data": {
      "text/plain": [
       "list"
      ]
     },
     "execution_count": 71,
     "metadata": {},
     "output_type": "execute_result"
    }
   ],
   "source": []
  },
  {
   "cell_type": "code",
   "execution_count": null,
   "metadata": {
    "collapsed": true
   },
   "outputs": [],
   "source": []
  }
 ],
 "metadata": {
  "kernelspec": {
   "display_name": "Python 3",
   "language": "python",
   "name": "python3"
  },
  "language_info": {
   "codemirror_mode": {
    "name": "ipython",
    "version": 3
   },
   "file_extension": ".py",
   "mimetype": "text/x-python",
   "name": "python",
   "nbconvert_exporter": "python",
   "pygments_lexer": "ipython3",
   "version": "3.6.2"
  }
 },
 "nbformat": 4,
 "nbformat_minor": 2
}
