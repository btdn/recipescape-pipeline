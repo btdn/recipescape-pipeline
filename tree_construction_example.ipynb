{
 "cells": [
  {
   "cell_type": "code",
   "execution_count": 1,
   "metadata": {},
   "outputs": [],
   "source": [
    "import numpy\n",
    "import json\n",
    "import pprint as pp\n",
    "\n",
    "from anytree import RenderTree\n",
    "from zss import Node, simple_distance\n",
    "\n",
    "from retrieve_recipes import *\n",
    "from im2recipe_w2v_weight import *\n",
    "\n",
    "recipes = get_all_recipes('potatosalad') #list\n",
    "\n",
    "def print_tree(tree):\n",
    "    for pre, fill, node in RenderTree(tree):\n",
    "        print(\"%s%s\" % (pre, node.label))"
   ]
  },
  {
   "cell_type": "code",
   "execution_count": 2,
   "metadata": {
    "scrolled": true
   },
   "outputs": [],
   "source": [
    "recipe_inst = []\n",
    "\n",
    "for recipe in recipes:\n",
    "    if recipe['id'] == '54a460c16529d92b2c0256ae':\n",
    "        #pp.pprint(recipe['tree'])\n",
    "        recipe_inst += recipe['tree']\n",
    "\n",
    "# pp.pprint(recipe_inst)\n",
    "# len(recipe_inst)\n",
    "\n",
    "node_list=[]\n",
    "for sentence in reversed(recipe_inst):\n",
    "    node_list.append(Node(label=sentence['word'], nodetype=\"action\"))\n",
    "\n",
    "tree1 = node_list[0]\n",
    "for i in range(1,len(node_list)):\n",
    "    node_list[i-1].addkid(node_list[i])"
   ]
  },
  {
   "cell_type": "code",
   "execution_count": 3,
   "metadata": {},
   "outputs": [
    {
     "data": {
      "text/plain": [
       "[{'ingredient': ['potatoes', 'water'], 'word': 'cover'},\n",
       " {'ingredient': ['potatoes'], 'word': 'drain'},\n",
       " {'ingredient': ['potatoes'], 'word': 'peel'},\n",
       " {'ingredient': ['potatoes', 'vinegar'], 'word': 'toss'},\n",
       " {'ingredient': ['mayonnaise', 'mustard', 'onion'], 'word': 'stir'},\n",
       " {'ingredient': ['potatoes', 'mayonnaise', 'mixture', 'salt', 'pepper'],\n",
       "  'word': 'toss'},\n",
       " {'ingredient': ['potatoes', 'salted', 'cold', 'water'], 'word': 'cover'},\n",
       " {'ingredient': ['potatoes'], 'word': 'drain'},\n",
       " {'ingredient': [], 'word': 'cut'},\n",
       " {'ingredient': ['yolks'], 'word': 'mash'},\n",
       " {'ingredient': ['celery'], 'word': 'chop'},\n",
       " {'ingredient': ['potato', 'salad'], 'word': 'serve'}]"
      ]
     },
     "execution_count": 3,
     "metadata": {},
     "output_type": "execute_result"
    }
   ],
   "source": [
    "recipe_inst"
   ]
  },
  {
   "cell_type": "code",
   "execution_count": null,
   "metadata": {
    "scrolled": true
   },
   "outputs": [],
   "source": [
    "print_tree(tree1)"
   ]
  },
  {
   "cell_type": "code",
   "execution_count": null,
   "metadata": {},
   "outputs": [],
   "source": [
    "ids=[]\n",
    "for recipe in recipes:\n",
    "    ids.append(recipe['id'])\n",
    "\n",
    "#len(set(ids)) #how many recipes - determined by distict IDs"
   ]
  },
  {
   "cell_type": "code",
   "execution_count": null,
   "metadata": {},
   "outputs": [],
   "source": [
    "recipe_inst = []\n",
    "\n",
    "for recipe in recipes:\n",
    "    if recipe['id'] == '54a4314e19925f464b384085':\n",
    "        #pp.pprint(recipe['tree'])\n",
    "        recipe_inst += recipe['tree']\n",
    "\n",
    "node_list=[]\n",
    "for sentence in reversed(recipe_inst):\n",
    "    node_list.append(Node(label=sentence['word'], nodetype=\"action\"))\n",
    "\n",
    "tree2 = node_list[0]\n",
    "for i in range(1,len(node_list)):\n",
    "    node_list[i-1].addkid(node_list[i])\n",
    "\n",
    "print_tree(tree2)"
   ]
  },
  {
   "cell_type": "code",
   "execution_count": null,
   "metadata": {},
   "outputs": [],
   "source": [
    "simple_distance(tree1, tree2)"
   ]
  },
  {
   "cell_type": "code",
   "execution_count": null,
   "metadata": {
    "collapsed": true
   },
   "outputs": [],
   "source": [
    "recipe_inst = []\n",
    "\n",
    "for recipe in recipes:\n",
    "    if recipe['id'] == '54a460c16529d92b2c0256ae':\n",
    "        #pp.pprint(recipe['tree'])\n",
    "        recipe_inst += recipe['tree']\n",
    "\n",
    "# pp.pprint(recipe_inst)\n",
    "# len(recipe_inst)\n",
    "node_list=[]\n",
    "for sentence in reversed(recipe_inst):\n",
    "    node_list.append(Node(label=sentence['word'], nodetype=\"action\"))\n",
    "\n",
    "tree3 = node_list[0]\n",
    "for i in range(1,len(node_list)):\n",
    "    node_list[i-1].addkid(node_list[i])"
   ]
  },
  {
   "cell_type": "code",
   "execution_count": null,
   "metadata": {},
   "outputs": [],
   "source": [
    "tree3.addkid(Node(label='add', nodetype=\"action\"))\n",
    "tree3.addkid(Node(label='add', nodetype=\"action\"))\n",
    "tree1.addkid(Node(label='add', nodetype=\"action\"))\n",
    "tree1.addkid(Node(label='mix', nodetype=\"action\"))"
   ]
  },
  {
   "cell_type": "code",
   "execution_count": null,
   "metadata": {},
   "outputs": [],
   "source": [
    "print_tree(tree3)"
   ]
  },
  {
   "cell_type": "code",
   "execution_count": null,
   "metadata": {},
   "outputs": [],
   "source": [
    "print_tree(tree1)"
   ]
  },
  {
   "cell_type": "code",
   "execution_count": null,
   "metadata": {},
   "outputs": [],
   "source": [
    "simple_distance(tree1, tree3)"
   ]
  },
  {
   "cell_type": "code",
   "execution_count": null,
   "metadata": {},
   "outputs": [],
   "source": [
    "1-cosine_similarity('add', 'mix')"
   ]
  },
  {
   "cell_type": "code",
   "execution_count": null,
   "metadata": {},
   "outputs": [],
   "source": [
    "1-cosine_similarity('add','heat')"
   ]
  },
  {
   "cell_type": "code",
   "execution_count": null,
   "metadata": {
    "collapsed": true
   },
   "outputs": [],
   "source": []
  }
 ],
 "metadata": {
  "kernelspec": {
   "display_name": "Python 3",
   "language": "python",
   "name": "python3"
  },
  "language_info": {
   "codemirror_mode": {
    "name": "ipython",
    "version": 3
   },
   "file_extension": ".py",
   "mimetype": "text/x-python",
   "name": "python",
   "nbconvert_exporter": "python",
   "pygments_lexer": "ipython3",
   "version": "3.6.2"
  }
 },
 "nbformat": 4,
 "nbformat_minor": 2
}
